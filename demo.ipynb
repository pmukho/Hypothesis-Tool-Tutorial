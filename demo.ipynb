{
 "cells": [
  {
   "cell_type": "markdown",
   "metadata": {},
   "source": [
    "# Hypothesis\n",
    "\n",
    "This notebook serves as a demo of the basic features and functionality of the Python tool **Hypothesis**."
   ]
  },
  {
   "cell_type": "markdown",
   "metadata": {},
   "source": [
    "## What is Hypothesis\n",
    "\n",
    "Hypothesis is a tool that allows us to write and generate tests that generate and allow for fuzzing over a large variety of data without actually manually making all the tests. The key features mentioned are **property-based-testing** using `@given`, **strategies** for primitive and more complex data types, **shrinking** to find the simplest possible counter-example, and **stateful testing** to test with defined rules and checking invariants."
   ]
  },
  {
   "cell_type": "markdown",
   "metadata": {},
   "source": [
    "## 1. Basic Usage: `@given` and Strategies\n",
    "\n",
    "The core of Hypothesis is the `@given` decorator, which takes **strategies** that define how to generate data. Let's test a simple `add` function."
   ]
  },
  {
   "cell_type": "code",
   "execution_count": 57,
   "metadata": {},
   "outputs": [
    {
     "name": "stdout",
     "output_type": "stream",
     "text": [
      "Testing with a=0, b=0\n",
      "Testing with a=7724, b=0\n",
      "Testing with a=7724, b=25899\n",
      "Testing with a=538211194, b=0\n",
      "Testing with a=538211194, b=26022\n",
      "Testing with a=19398, b=0\n",
      "Testing with a=19398, b=-3748339535928337758\n",
      "Testing with a=-94, b=0\n",
      "Testing with a=-94, b=-1987732541450170365\n",
      "Testing with a=-117, b=0\n",
      "Testing with a=-117, b=30882\n",
      "Testing with a=30882, b=30882\n",
      "Testing with a=11485, b=-65\n",
      "Testing with a=11485, b=11485\n",
      "Testing with a=-51, b=-29194\n",
      "Testing with a=-29194, b=-29194\n",
      "Testing with a=12793, b=8922\n",
      "Testing with a=12793, b=12793\n",
      "Testing with a=-45, b=-14425\n",
      "Testing with a=-45, b=-45\n",
      "Testing with a=-4790, b=12921\n",
      "Testing with a=-4790, b=-4790\n",
      "Testing with a=27760, b=1588825048\n",
      "Testing with a=1588825048, b=1588825048\n",
      "Testing with a=-4389883778952987156, b=-46\n",
      "Testing with a=-4389883778952987156, b=-4389883778952987156\n",
      "Testing with a=24227, b=-20787\n",
      "Testing with a=-20787, b=-20787\n",
      "Testing with a=-7, b=-32756\n",
      "Testing with a=-7, b=-7\n",
      "Testing with a=-30, b=101\n",
      "Testing with a=-30, b=-30\n",
      "Testing with a=27931, b=23825\n",
      "Testing with a=23825, b=23825\n",
      "Testing with a=-100, b=18811\n",
      "Testing with a=18811, b=18811\n",
      "Testing with a=15799, b=-107\n",
      "Testing with a=-107, b=-107\n",
      "Testing with a=-6918567738953923810, b=-91\n",
      "Testing with a=-6918567738953923810, b=-6918567738953923810\n",
      "Testing with a=5094, b=19684\n",
      "Testing with a=19684, b=19684\n",
      "Testing with a=-57, b=-26622\n",
      "Testing with a=-26622, b=-26622\n",
      "Testing with a=29829, b=-17067\n",
      "Testing with a=29829, b=29829\n",
      "Testing with a=-93, b=-29498\n",
      "Testing with a=-29498, b=-29498\n",
      "Testing with a=23560, b=-6948\n",
      "Testing with a=-6948, b=-6948\n",
      "Testing with a=-3, b=-17688\n",
      "Testing with a=-3, b=-3\n",
      "Testing with a=-27922, b=114\n",
      "Testing with a=114, b=114\n",
      "Testing with a=30370, b=-27108\n",
      "Testing with a=30370, b=30370\n",
      "Testing with a=-15701, b=-23128\n",
      "Testing with a=-23128, b=-23128\n",
      "Testing with a=-20925, b=-78888857420342812476685095963647903606\n",
      "Testing with a=-78888857420342812476685095963647903606, b=-78888857420342812476685095963647903606\n",
      "Testing with a=-9, b=115\n",
      "Testing with a=115, b=115\n",
      "Testing with a=-17178, b=-417\n",
      "Testing with a=-17178, b=-17178\n",
      "Testing with a=29179, b=6358\n",
      "Testing with a=29179, b=29179\n",
      "Testing with a=20828, b=-26902\n",
      "Testing with a=20828, b=20828\n",
      "Testing with a=12427, b=8002\n",
      "Testing with a=12427, b=12427\n",
      "Testing with a=22703, b=-34\n",
      "Testing with a=22703, b=22703\n",
      "Testing with a=-19596, b=83\n",
      "Testing with a=-19596, b=-19596\n",
      "Testing with a=-17578, b=93\n",
      "Testing with a=-17578, b=-17578\n",
      "Testing with a=-703526528, b=1085\n",
      "Testing with a=-703526528, b=-703526528\n",
      "Testing with a=1960441776811046608, b=-31558\n",
      "Testing with a=1960441776811046608, b=1960441776811046608\n",
      "Testing with a=20419, b=22\n",
      "Testing with a=20419, b=20419\n",
      "Testing with a=-43, b=1650106351\n",
      "Testing with a=1650106351, b=1650106351\n",
      "Testing with a=-27291, b=-28714\n",
      "Testing with a=-28714, b=-28714\n",
      "Testing with a=21456, b=85\n",
      "Testing with a=21456, b=21456\n",
      "Testing with a=7744, b=-3973342297369962697\n",
      "Testing with a=-3973342297369962697, b=-3973342297369962697\n",
      "Testing with a=89, b=1615\n",
      "Testing with a=89, b=89\n",
      "Testing with a=1237, b=-1254253091\n",
      "Testing with a=1237, b=1237\n",
      "Testing with a=-30680, b=-12485\n",
      "Testing with a=-30680, b=-30680\n",
      "Testing with a=77, b=113\n",
      "Testing with a=113, b=113\n",
      "Testing with a=-18678, b=-27\n",
      "Testing with a=-18678, b=-18678\n"
     ]
    }
   ],
   "source": [
    "import hypothesis\n",
    "from hypothesis import given, strategies as st\n",
    "\n",
    "def add(a, b):\n",
    "    \"\"\"A simple function to add two numbers.\"\"\"\n",
    "    return a + b\n",
    "\n",
    "# This is a property-based test!\n",
    "# It states that for any two integers a and b, add(a, b) should equal a + b.\n",
    "\n",
    "@given(a=st.integers(), b=st.integers())\n",
    "def test_addition_property(a, b):\n",
    "    print(f\"Testing with a={a}, b={b}\") \n",
    "    assert add(a, b) == a + b\n",
    "\n",
    "test_addition_property()"
   ]
  },
  {
   "cell_type": "markdown",
   "metadata": {},
   "source": [
    "Notice how Hypothesis tries a wide range of integers: positives, negatives, and zero. If the assertion had failed, Hypothesis would have reported it."
   ]
  },
  {
   "cell_type": "markdown",
   "metadata": {},
   "source": [
    "## 2. Shrinking, Counter-Examples, and Replaying\n",
    "\n",
    "Hypothesis's superpower is finding the *simplest possible* failing example. This is called **shrinking**. Let's introduce a bug into a sorting function."
   ]
  },
  {
   "cell_type": "code",
   "execution_count": 66,
   "metadata": {},
   "outputs": [
    {
     "name": "stdout",
     "output_type": "stream",
     "text": [
      "no cache\n"
     ]
    }
   ],
   "source": [
    "import os\n",
    "import shutil\n",
    "try:\n",
    "    shutil.rmtree('.hypothesis')\n",
    "except:\n",
    "    print('no cache')\n"
   ]
  },
  {
   "cell_type": "code",
   "execution_count": 67,
   "metadata": {},
   "outputs": [
    {
     "name": "stdout",
     "output_type": "stream",
     "text": [
      "🔍 SSearching for example\n"
     ]
    },
    {
     "ename": "AssertionError",
     "evalue": "",
     "output_type": "error",
     "traceback": [
      "\u001b[0;31m---------------------------------------------------------------------------\u001b[0m",
      "\u001b[0;31mAssertionError\u001b[0m                            Traceback (most recent call last)",
      "Cell \u001b[0;32mIn[67], line 32\u001b[0m\n\u001b[1;32m     29\u001b[0m     failing_example \u001b[38;5;241m=\u001b[39m find(list_strategy, check_sort)\n\u001b[1;32m     30\u001b[0m     \u001b[38;5;28mprint\u001b[39m(\u001b[38;5;124mf\u001b[39m\u001b[38;5;124m\"\u001b[39m\u001b[38;5;124m \u001b[39m\u001b[38;5;132;01m{\u001b[39;00mfailing_example\u001b[38;5;132;01m}\u001b[39;00m\u001b[38;5;124m\"\u001b[39m)\n\u001b[0;32m---> 32\u001b[0m \u001b[43mrun_find\u001b[49m\u001b[43m(\u001b[49m\u001b[43m)\u001b[49m\n",
      "Cell \u001b[0;32mIn[67], line 29\u001b[0m, in \u001b[0;36mrun_find\u001b[0;34m()\u001b[0m\n\u001b[1;32m     26\u001b[0m \u001b[38;5;129m@settings\u001b[39m(verbosity\u001b[38;5;241m=\u001b[39m\u001b[38;5;241m2\u001b[39m, max_examples\u001b[38;5;241m=\u001b[39m\u001b[38;5;241m1000\u001b[39m, deadline\u001b[38;5;241m=\u001b[39m\u001b[38;5;28;01mNone\u001b[39;00m)\n\u001b[1;32m     27\u001b[0m \u001b[38;5;28;01mdef\u001b[39;00m\u001b[38;5;250m \u001b[39m\u001b[38;5;21mrun_find\u001b[39m():\n\u001b[1;32m     28\u001b[0m     \u001b[38;5;28mprint\u001b[39m(\u001b[38;5;124m\"\u001b[39m\u001b[38;5;124m🔍 SSearching for example\u001b[39m\u001b[38;5;124m\"\u001b[39m)\n\u001b[0;32m---> 29\u001b[0m     failing_example \u001b[38;5;241m=\u001b[39m \u001b[43mfind\u001b[49m\u001b[43m(\u001b[49m\u001b[43mlist_strategy\u001b[49m\u001b[43m,\u001b[49m\u001b[43m \u001b[49m\u001b[43mcheck_sort\u001b[49m\u001b[43m)\u001b[49m\n\u001b[1;32m     30\u001b[0m     \u001b[38;5;28mprint\u001b[39m(\u001b[38;5;124mf\u001b[39m\u001b[38;5;124m\"\u001b[39m\u001b[38;5;124m \u001b[39m\u001b[38;5;132;01m{\u001b[39;00mfailing_example\u001b[38;5;132;01m}\u001b[39;00m\u001b[38;5;124m\"\u001b[39m)\n",
      "File \u001b[0;32m~/opt/miniconda3/envs/HypothesisDemo/lib/python3.10/site-packages/hypothesis/core.py:2295\u001b[0m, in \u001b[0;36mfind\u001b[0;34m(specifier, condition, settings, random, database_key)\u001b[0m\n\u001b[1;32m   2292\u001b[0m test\u001b[38;5;241m.\u001b[39m_hypothesis_internal_database_key \u001b[38;5;241m=\u001b[39m database_key  \u001b[38;5;66;03m# type: ignore\u001b[39;00m\n\u001b[1;32m   2294\u001b[0m \u001b[38;5;28;01mtry\u001b[39;00m:\n\u001b[0;32m-> 2295\u001b[0m     \u001b[43mtest\u001b[49m\u001b[43m(\u001b[49m\u001b[43m)\u001b[49m\n\u001b[1;32m   2296\u001b[0m \u001b[38;5;28;01mexcept\u001b[39;00m Found:\n\u001b[1;32m   2297\u001b[0m     \u001b[38;5;28;01mreturn\u001b[39;00m last[\u001b[38;5;241m0\u001b[39m]\n",
      "File \u001b[0;32m~/opt/miniconda3/envs/HypothesisDemo/lib/python3.10/site-packages/hypothesis/core.py:2283\u001b[0m, in \u001b[0;36mfind.<locals>.test\u001b[0;34m()\u001b[0m\n\u001b[1;32m   2278\u001b[0m specifier\u001b[38;5;241m.\u001b[39mvalidate()\n\u001b[1;32m   2280\u001b[0m last: \u001b[38;5;28mlist\u001b[39m[Ex] \u001b[38;5;241m=\u001b[39m []\n\u001b[1;32m   2282\u001b[0m \u001b[38;5;129m@settings\u001b[39m\n\u001b[0;32m-> 2283\u001b[0m \u001b[38;5;129m@given\u001b[39m(specifier)\n\u001b[1;32m   2284\u001b[0m \u001b[38;5;28;01mdef\u001b[39;00m\u001b[38;5;250m \u001b[39m\u001b[38;5;21mtest\u001b[39m(v):\n\u001b[1;32m   2285\u001b[0m     \u001b[38;5;28;01mif\u001b[39;00m condition(v):\n\u001b[1;32m   2286\u001b[0m         last[:] \u001b[38;5;241m=\u001b[39m [v]\n",
      "    \u001b[0;31m[... skipping hidden 1 frame]\u001b[0m\n",
      "Cell \u001b[0;32mIn[67], line 23\u001b[0m, in \u001b[0;36mcheck_sort\u001b[0;34m(numbers)\u001b[0m\n\u001b[1;32m     21\u001b[0m seen_inputs\u001b[38;5;241m.\u001b[39mappend(numbers[:])  \n\u001b[1;32m     22\u001b[0m note(\u001b[38;5;124mf\u001b[39m\u001b[38;5;124m\"\u001b[39m\u001b[38;5;124mChecking example: \u001b[39m\u001b[38;5;132;01m{\u001b[39;00mnumbers\u001b[38;5;132;01m}\u001b[39;00m\u001b[38;5;124m\"\u001b[39m)\n\u001b[0;32m---> 23\u001b[0m \u001b[38;5;28;01massert\u001b[39;00m buggy_sort(numbers) \u001b[38;5;241m==\u001b[39m \u001b[38;5;28msorted\u001b[39m(numbers)\n",
      "\u001b[0;31mAssertionError\u001b[0m: ",
      "\u001b[0mFalsifying example: test(\n    v=[0, 1],\n)",
      "\u001b[0mChecking example: [0, 1]",
      "\u001b[0mExplanation:",
      "\u001b[0m    These lines were always and only run by failing examples:",
      "\u001b[0m        /var/folders/v4/c1my1gp5181d0r1qfbxm68580000gn/T/ipykernel_15028/1485452241.py:6"
     ]
    }
   ],
   "source": [
    "from hypothesis import find, strategies as st, settings, note\n",
    "from typing import List\n",
    "\n",
    "def buggy_sort(numbers: List[int]) -> List[int]:\n",
    "    if 0 in numbers and 1 in numbers:\n",
    "        return [999] #oh no our sort is wrong\n",
    "    return sorted(numbers)\n",
    "\n",
    "# defined strategy\n",
    "list_strategy = st.lists(\n",
    "    st.integers(min_value=-5, max_value=5),\n",
    "    min_size=1,\n",
    "    max_size=10\n",
    ")\n",
    "\n",
    "# ignore\n",
    "seen_inputs = []\n",
    "\n",
    "#ignore\n",
    "def check_sort(numbers: List[int]):\n",
    "    seen_inputs.append(numbers[:])  \n",
    "    note(f\"Checking example: {numbers}\")\n",
    "    assert buggy_sort(numbers) == sorted(numbers)\n",
    "\n",
    "# --- Settings ---\n",
    "@settings(verbosity=2, max_examples=1000, deadline=None)\n",
    "def run_find():\n",
    "    print(\"🔍 SSearching for example\")\n",
    "    failing_example = find(list_strategy, check_sort)\n",
    "    print(f\" {failing_example}\")\n",
    "\n",
    "run_find()"
   ]
  },
  {
   "cell_type": "code",
   "execution_count": 68,
   "metadata": {},
   "outputs": [
    {
     "data": {
      "image/png": "[encoded data removed]",
      "text/plain": [
       "<Figure size 1000x500 with 1 Axes>"
      ]
     },
     "metadata": {},
     "output_type": "display_data"
    }
   ],
   "source": [
    "sizes = [len(x) for x in seen_inputs]\n",
    "plt.figure(figsize=(10, 5))\n",
    "plt.plot(sizes, marker='o', linestyle='-', color='blue', label='Input size')\n",
    "plt.xlabel('Test number')\n",
    "plt.ylabel('Input size (length of list)')\n",
    "plt.title(' Shrinking Behavior in Hypothesis')\n",
    "plt.grid(True)\n",
    "plt.legend()\n",
    "plt.tight_layout()\n",
    "plt.show()"
   ]
  },
  {
   "cell_type": "markdown",
   "metadata": {},
   "source": [
    "You might note it shrank it down to the simplest possible case that still causes the error.\n",
    "\n",
    "#### Replaying Failures\n",
    "\n",
    "When a test fails, Hypothesis saves the failing example. You can use the `@example` decorator to add it as a permanent regression test case, ensuring the bug never comes back."
   ]
  },
  {
   "cell_type": "code",
   "execution_count": null,
   "metadata": {},
   "outputs": [
    {
     "name": "stdout",
     "output_type": "stream",
     "text": [
      "❌ Test failed for input: [0, 1]\n",
      "Test with @example ran.\n"
     ]
    }
   ],
   "source": [
    "from hypothesis import given, example, strategies as st\n",
    "\n",
    "\n",
    "@given(st.lists(st.integers()))\n",
    "@example([0, 1])  \n",
    "def test_buggy_sort(numbers):\n",
    "    try:\n",
    "        assert buggy_sort(numbers) == sorted(numbers)\n",
    "    except AssertionError:\n",
    "        print(f\"❌ Test failed for input: {numbers}\")\n",
    "\n",
    "test_buggy_sort()\n",
    "\n",
    "print(\"Test with @example ran.\")\n"
   ]
  },
  {
   "cell_type": "markdown",
   "metadata": {},
   "source": [
    "## 3. More Features: Filters, Combining, and `assume()`\n",
    "\n",
    "You can easily refine strategies."
   ]
  },
  {
   "cell_type": "code",
   "execution_count": null,
   "metadata": {},
   "outputs": [
    {
     "name": "stdout",
     "output_type": "stream",
     "text": [
      "Testing -107 / -21080\n",
      "Testing 6880 / 20\n",
      "Testing -46 / 19762\n",
      "Testing -6032084173671111190 / 5249410788051267593\n",
      "Testing -23985 / -21796\n",
      "Testing 16 / 100\n",
      "Testing 32338 / -61\n",
      "Testing 1211 / 118\n",
      "Testing -59 / -31829\n",
      "Testing -26857 / -5709\n",
      "Testing -26857 / -26857\n",
      "Testing 6500 / 1287232088\n",
      "Testing 1287232088 / 1287232088\n",
      "Testing 23651 / -30426\n",
      "Testing 23651 / 23651\n",
      "Testing 32362 / -5097\n",
      "Testing 32362 / 32362\n",
      "Testing -30571 / -4001218974137918807\n",
      "Testing -4001218974137918807 / -4001218974137918807\n",
      "Testing 6640226095432587079 / 11624\n",
      "Testing 11624 / 11624\n",
      "Testing -7111 / 26674\n",
      "Testing 26674 / 26674\n",
      "Testing -24737 / -2956470570003366679\n",
      "Testing -24737 / -24737\n",
      "Testing -14149 / -26742\n",
      "Testing -14149 / -14149\n",
      "Testing 73 / -1998\n",
      "Testing -1998 / -1998\n",
      "Testing 29 / -11445\n",
      "Testing -11445 / -11445\n",
      "Testing -20260 / 107\n",
      "Testing -20260 / -20260\n",
      "Testing -116 / -28\n",
      "Testing -28 / -28\n",
      "Testing 28600 / -534621554\n",
      "Testing 28600 / 28600\n",
      "Testing -28396 / 1297009681\n",
      "Testing 1297009681 / 1297009681\n",
      "Testing 18994 / -59\n",
      "Testing 18994 / 18994\n",
      "Testing -122 / 28585\n",
      "Testing 28585 / 28585\n",
      "Testing -28413 / 8905\n",
      "Testing -28413 / -28413\n",
      "Testing -17049 / 4687\n",
      "Testing -17049 / -17049\n",
      "Testing 16 / -16452\n",
      "Testing -16452 / -16452\n",
      "Testing 25 / 9269\n",
      "Testing 9269 / 9269\n",
      "Testing 39 / 49\n",
      "Testing 39 / 39\n",
      "Testing 29369 / -16574\n",
      "Testing 29369 / 29369\n",
      "Testing 25845 / 6168179135282505907\n",
      "Testing 25845 / 25845\n",
      "Testing -1031752424 / -16518\n",
      "Testing -1031752424 / -1031752424\n",
      "Testing -1199539257 / 12\n",
      "Testing 12 / 12\n",
      "Testing -1069 / -32347\n",
      "Testing -1069 / -1069\n",
      "Testing -28565 / 28901\n",
      "Testing -28565 / -28565\n",
      "Testing 1244249120 / 17487\n",
      "Testing 17487 / 17487\n",
      "Testing 2 / 1623334976\n",
      "Testing 1623334976 / 1623334976\n",
      "Testing -127 / 117\n",
      "Testing -127 / -127\n",
      "Testing -13756 / -22189\n",
      "Testing -22189 / -22189\n",
      "Testing -24010 / -166539255109026669006200348543144710068\n",
      "Testing -166539255109026669006200348543144710068 / -166539255109026669006200348543144710068\n",
      "Testing -16835 / 2139588119\n",
      "Testing 2139588119 / 2139588119\n",
      "Testing 7961194646172129390 / -21\n",
      "Testing 7961194646172129390 / 7961194646172129390\n",
      "Testing -3808 / 26\n",
      "Testing 26 / 26\n",
      "Testing -13362 / -15\n",
      "Testing -15 / -15\n",
      "Testing 8280 / 9910\n",
      "Testing 8280 / 8280\n",
      "Testing 29884 / -24225\n",
      "Testing 29884 / 29884\n",
      "Testing 69117261150654598638956726693052488981 / -1352\n",
      "Testing 69117261150654598638956726693052488981 / 69117261150654598638956726693052488981\n",
      "Testing -7981 / -90\n",
      "Testing -7981 / -7981\n",
      "Testing 11449 / 14\n",
      "Testing 14 / 14\n",
      "Testing -8394544897496627221 / -12928\n",
      "Testing -12928 / -12928\n",
      "Testing 16954 / -31444\n",
      "Testing -31444 / -31444\n",
      "Testing 149438439243675267626069296510243258145 / -317723584\n",
      "Testing -317723584 / -317723584\n",
      "Testing 5842616243494735685 / 23913\n"
     ]
    }
   ],
   "source": [
    "from hypothesis import assume\n",
    "\n",
    "# 1. Filtering: Create a strategy for positive integers\n",
    "positive_integers = st.integers().filter(lambda x: x > 0)\n",
    "\n",
    "# 2. Combining: Create a strategy for integers OR text\n",
    "int_or_text = st.one_of(st.integers(), st.text())\n",
    "\n",
    "# 3. `data()` and `assume()`: For complex, conditional logic inside your test\n",
    "@given(st.data())\n",
    "def test_division(data):\n",
    "    # Use data.draw() to pull from a strategy\n",
    "    numerator = data.draw(st.integers())\n",
    "    denominator = data.draw(st.integers())\n",
    "    \n",
    "    # `assume` tells Hypothesis to discard this example and try a new one\n",
    "    assume(denominator != 0)\n",
    "    \n",
    "    print(f\"Testing {numerator} / {denominator}\")\n",
    "    assert isinstance(numerator / denominator, float)\n",
    "\n",
    "test_division()"
   ]
  },
  {
   "cell_type": "markdown",
   "metadata": {},
   "source": [
    "`assume()` is very powerful. It lets you reject test data that doesn't meet a precondition, without causing the test to fail."
   ]
  },
  {
   "cell_type": "markdown",
   "metadata": {},
   "source": [
    "## 4. Custom and Composite Strategies\n",
    "\n",
    "What if you need to generate custom objects? The `@composite` decorator lets you build new strategies from existing ones."
   ]
  },
  {
   "cell_type": "code",
   "execution_count": null,
   "metadata": {},
   "outputs": [],
   "source": [
    "from hypothesis.strategies import composite\n",
    "from dataclasses import dataclass\n",
    "\n",
    "@dataclass\n",
    "class User:\n",
    "    id: int\n",
    "    name: str\n",
    "\n",
    "@composite\n",
    "def user_strategy(draw):\n",
    "    \"\"\"A strategy to generate User objects.\"\"\"\n",
    "    # `draw` works like `data.draw()` from the previous example\n",
    "    user_id = draw(st.integers(min_value=1))\n",
    "    user_name = draw(st.text(min_size=3, max_size=20))\n",
    "    return User(id=user_id, name=user_name)\n",
    "\n",
    "@given(user=user_strategy())\n",
    "def test_user_creation(user):\n",
    "    print(f\"Generated User: {user}\")\n",
    "    assert isinstance(user, User)\n",
    "    assert user.id > 0\n",
    "    assert len(user.name) >= 3\n",
    "\n",
    "test_user_creation()"
   ]
  },
  {
   "cell_type": "markdown",
   "metadata": {},
   "source": [
    "## 5. Stateful Testing\n",
    "\n",
    "Hypothesis can even test stateful systems by generating sequences of actions and checking that invariants (rules that should always be true) hold.\n",
    "\n",
    "Let's test a simple `SimpleStack` class."
   ]
  },
  {
   "cell_type": "code",
   "execution_count": null,
   "metadata": {},
   "outputs": [
    {
     "ename": "AttributeError",
     "evalue": "'StackStateMachine.TestCase' object has no attribute 'execute_step'",
     "output_type": "error",
     "traceback": [
      "\u001b[0;31m---------------------------------------------------------------------------\u001b[0m",
      "\u001b[0;31mAttributeError\u001b[0m                            Traceback (most recent call last)",
      "Cell \u001b[0;32mIn[5], line 58\u001b[0m\n\u001b[1;32m     55\u001b[0m TestStack\u001b[38;5;241m.\u001b[39mrunTest \u001b[38;5;241m=\u001b[39m \u001b[38;5;28;01mlambda\u001b[39;00m \u001b[38;5;28mself\u001b[39m: \u001b[38;5;28;01mNone\u001b[39;00m \u001b[38;5;66;03m# Suppress unittest's default runner\u001b[39;00m\n\u001b[1;32m     57\u001b[0m test_case \u001b[38;5;241m=\u001b[39m TestStack()\n\u001b[0;32m---> 58\u001b[0m test_case\u001b[38;5;241m.\u001b[39mexecute_step \u001b[38;5;241m=\u001b[39m \u001b[43mtest_case\u001b[49m\u001b[38;5;241;43m.\u001b[39;49m\u001b[43mexecute_step\u001b[49m\n\u001b[1;32m     59\u001b[0m \u001b[38;5;28mprint\u001b[39m(\u001b[38;5;124m\"\u001b[39m\u001b[38;5;124mRunning stateful test...\u001b[39m\u001b[38;5;124m\"\u001b[39m)\n\u001b[1;32m     60\u001b[0m \u001b[38;5;66;03m# Manually run a few steps for demonstration\u001b[39;00m\n",
      "\u001b[0;31mAttributeError\u001b[0m: 'StackStateMachine.TestCase' object has no attribute 'execute_step'"
     ]
    }
   ],
   "source": [
    "from hypothesis.stateful import RuleBasedStateMachine, rule, precondition\n",
    "\n",
    "class SimpleStack:\n",
    "    \"\"\"A basic stack implementation.\"\"\"\n",
    "    def __init__(self):\n",
    "        self._items = []\n",
    "    \n",
    "    def push(self, item):\n",
    "        self._items.append(item)\n",
    "        \n",
    "    def pop(self):\n",
    "        if not self._items:\n",
    "            raise IndexError(\"pop from empty list\")\n",
    "        return self._items.pop()\n",
    "    \n",
    "    def is_empty(self):\n",
    "        return not self._items\n",
    "    \n",
    "    @property\n",
    "    def size(self):\n",
    "        return len(self._items)\n",
    "\n",
    "class StackStateMachine(RuleBasedStateMachine):\n",
    "    \"\"\"Defines the rules for testing our stack.\"\"\"\n",
    "    def __init__(self):\n",
    "        super().__init__()\n",
    "        self.stack = SimpleStack()\n",
    "        self.model = [] # A simple list to model the stack's behavior\n",
    "        \n",
    "    @rule(item=st.integers())\n",
    "    def push_item(self, item):\n",
    "        \"\"\"Rule for pushing an item.\"\"\"\n",
    "        self.stack.push(item)\n",
    "        self.model.append(item)\n",
    "        print(f\"Pushed {item}\")\n",
    "        \n",
    "    @rule()\n",
    "    @precondition(lambda self: not self.stack.is_empty()) # Only run pop if not empty\n",
    "    def pop_item(self):\n",
    "        \"\"\"Rule for popping an item.\"\"\"\n",
    "        popped_stack = self.stack.pop()\n",
    "        popped_model = self.model.pop()\n",
    "        print(f\"Popped {popped_stack}\")\n",
    "        assert popped_stack == popped_model\n",
    "    \n",
    "    @rule()\n",
    "    def check_invariants(self):\n",
    "        \"\"\"This rule checks properties that should always be true.\"\"\"\n",
    "        print(\"Checking invariants...\")\n",
    "        assert self.stack.size == len(self.model)\n",
    "        assert self.stack.is_empty() == (not self.model)\n",
    "\n",
    "# To run this, Hypothesis would execute a sequence of the rules defined above.\n",
    "TestStack = StackStateMachine.TestCase\n",
    "TestStack.runTest = lambda self: None # Suppress unittest's default runner\n",
    "\n",
    "test_case = TestStack()\n",
    "test_case.execute_step = test_case.execute_step\n",
    "print(\"Running stateful test...\")\n",
    "# Manually run a few steps for demonstration\n",
    "try:\n",
    "    for i in range(10): # Run 10 random steps\n",
    "        test_case.execute_step(test_case.steps.pop(0))\n",
    "except (IndexError, AttributeError):\n",
    "    pass # Stop if we run out of generated steps\n",
    "print(\"\\nStateful test finished.\")"
   ]
  },
  {
   "cell_type": "markdown",
   "metadata": {},
   "source": [
    "epic thanks to the pogg0 goats Henry Shu, Inesh Chakrabarti, Ingrid Lee, Nathan Wei, Pritam Mukhopadhyay  "
   ]
  }
 ],
 "metadata": {
  "kernelspec": {
   "display_name": "HypothesisDemo",
   "language": "python",
   "name": "python3"
  },
  "language_info": {
   "codemirror_mode": {
    "name": "ipython",
    "version": 3
   },
   "file_extension": ".py",
   "mimetype": "text/x-python",
   "name": "python",
   "nbconvert_exporter": "python",
   "pygments_lexer": "ipython3",
   "version": "3.10.18"
  }
 },
 "nbformat": 4,
 "nbformat_minor": 4
}
