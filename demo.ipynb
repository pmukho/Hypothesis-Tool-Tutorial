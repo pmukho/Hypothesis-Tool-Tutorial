{
 "cells": [
  {
   "cell_type": "markdown",
   "metadata": {},
   "source": [
    "# Hypothesis\n",
    "\n",
    "This notebook serves as a demo of the basic features and functionality of the Python tool **Hypothesis**."
   ]
  },
  {
   "cell_type": "markdown",
   "metadata": {},
   "source": [
    "## What is Hypothesis\n",
    "\n",
    "Hypothesis is a tool that allows us to write and generate tests that generate and allow for fuzzing over a large variety of data without actually manually making all the tests. The key features mentioned are **property-based-testing** using `@given`, **strategies** for primitive and more complex data types, **shrinking** to find the simplest possible counter-example, and **stateful testing** to test with defined rules and checking invariants."
   ]
  },
  {
   "cell_type": "markdown",
   "metadata": {},
   "source": [
    "## 1. Basic Usage: `@given` and Strategies\n",
    "\n",
    "The core of Hypothesis is the `@given` decorator, which takes **strategies** that define how to generate data. Let's test a simple `add` function."
   ]
  },
  {
   "cell_type": "code",
   "execution_count": 1,
   "metadata": {},
   "outputs": [
    {
     "name": "stdout",
     "output_type": "stream",
     "text": [
      "Testing with a=0, b=0\n",
      "Testing with a=20071, b=0\n",
      "Testing with a=20071, b=-593799844\n",
      "Testing with a=125, b=0\n",
      "Testing with a=125, b=5482974736779781910\n",
      "Testing with a=-17252, b=0\n",
      "Testing with a=-17252, b=-17931\n",
      "Testing with a=24057, b=0\n",
      "Testing with a=24057, b=-24998\n",
      "Testing with a=12449, b=0\n",
      "Testing with a=12449, b=22\n",
      "Testing with a=12449, b=12449\n",
      "Testing with a=-27324, b=26\n",
      "Testing with a=-27324, b=-27324\n",
      "Testing with a=-23286, b=25013\n",
      "Testing with a=-23286, b=-23286\n",
      "Testing with a=-40, b=32595\n",
      "Testing with a=32595, b=32595\n",
      "Testing with a=-5927, b=18418\n",
      "Testing with a=18418, b=18418\n",
      "Testing with a=-26391, b=18404\n",
      "Testing with a=-26391, b=-26391\n",
      "Testing with a=-25, b=5515\n",
      "Testing with a=-25, b=-25\n",
      "Testing with a=-63, b=-2601\n",
      "Testing with a=-2601, b=-2601\n",
      "Testing with a=-18013, b=-118\n",
      "Testing with a=-18013, b=-18013\n",
      "Testing with a=-3003092679546976358, b=-14278\n",
      "Testing with a=-3003092679546976358, b=-3003092679546976358\n",
      "Testing with a=17926, b=15\n",
      "Testing with a=17926, b=17926\n",
      "Testing with a=30865, b=55958568\n",
      "Testing with a=55958568, b=55958568\n",
      "Testing with a=29186, b=3594543410492293281\n",
      "Testing with a=29186, b=29186\n",
      "Testing with a=-12894, b=143\n",
      "Testing with a=-12894, b=-12894\n",
      "Testing with a=5142, b=-2864\n",
      "Testing with a=-2864, b=-2864\n",
      "Testing with a=26542, b=8082\n",
      "Testing with a=26542, b=26542\n",
      "Testing with a=96329186405520033289870142245356365062, b=23837\n",
      "Testing with a=96329186405520033289870142245356365062, b=96329186405520033289870142245356365062\n",
      "Testing with a=28932, b=59\n",
      "Testing with a=28932, b=28932\n",
      "Testing with a=66, b=-116\n",
      "Testing with a=-116, b=-116\n",
      "Testing with a=104, b=-211104568\n",
      "Testing with a=104, b=104\n",
      "Testing with a=-34, b=-663937017\n",
      "Testing with a=-663937017, b=-663937017\n",
      "Testing with a=-94, b=-25189\n",
      "Testing with a=-94, b=-94\n",
      "Testing with a=20545, b=-106\n",
      "Testing with a=-106, b=-106\n",
      "Testing with a=-19662, b=-5905725431239713713\n",
      "Testing with a=-5905725431239713713, b=-5905725431239713713\n",
      "Testing with a=113, b=25305\n",
      "Testing with a=113, b=113\n",
      "Testing with a=-22, b=12672\n",
      "Testing with a=12672, b=12672\n",
      "Testing with a=-31009, b=105\n",
      "Testing with a=105, b=105\n",
      "Testing with a=29, b=51\n",
      "Testing with a=29, b=29\n",
      "Testing with a=21698, b=62\n",
      "Testing with a=62, b=62\n",
      "Testing with a=14, b=-48\n",
      "Testing with a=-48, b=-48\n",
      "Testing with a=-60899892240069772262669729073388001548, b=27317\n",
      "Testing with a=-60899892240069772262669729073388001548, b=-60899892240069772262669729073388001548\n",
      "Testing with a=-6136, b=21854\n",
      "Testing with a=-6136, b=-6136\n",
      "Testing with a=21, b=24189\n",
      "Testing with a=24189, b=24189\n",
      "Testing with a=-26829, b=-13760\n",
      "Testing with a=-26829, b=-26829\n",
      "Testing with a=-10412, b=-1818324916\n",
      "Testing with a=-10412, b=-10412\n",
      "Testing with a=15591, b=28442\n",
      "Testing with a=28442, b=28442\n",
      "Testing with a=-106, b=1900641851\n",
      "Testing with a=-69310038371213563572895676285444377733, b=-56\n",
      "Testing with a=-69310038371213563572895676285444377733, b=-69310038371213563572895676285444377733\n",
      "Testing with a=-21567, b=-35\n",
      "Testing with a=-21567, b=-21567\n",
      "Testing with a=32303, b=7\n",
      "Testing with a=32303, b=32303\n",
      "Testing with a=-22467, b=52\n",
      "Testing with a=52, b=52\n",
      "Testing with a=23, b=16151\n",
      "Testing with a=16151, b=16151\n",
      "Testing with a=-105, b=22828\n",
      "Testing with a=-105, b=-105\n",
      "Testing with a=-3710, b=77\n",
      "Testing with a=-3710, b=-3710\n",
      "Testing with a=-9916, b=-1810064870306110360\n",
      "Testing with a=-1810064870306110360, b=-1810064870306110360\n",
      "Testing with a=-6, b=2164\n"
     ]
    }
   ],
   "source": [
    "import hypothesis\n",
    "from hypothesis import given, strategies as st\n",
    "\n",
    "def add(a, b):\n",
    "    \"\"\"A simple function to add two numbers.\"\"\"\n",
    "    return a + b\n",
    "\n",
    "# This is a property-based test!\n",
    "# It states that for any two integers a and b, add(a, b) should equal a + b.\n",
    "\n",
    "@given(a=st.integers(), b=st.integers())\n",
    "def test_addition_property(a, b):\n",
    "    print(f\"Testing with a={a}, b={b}\") \n",
    "    assert add(a, b) == a + b\n",
    "\n",
    "test_addition_property()"
   ]
  },
  {
   "cell_type": "markdown",
   "metadata": {},
   "source": [
    "Notice how Hypothesis tries a wide range of integers: positives, negatives, and zero. If the assertion had failed, Hypothesis would have reported it."
   ]
  },
  {
   "cell_type": "markdown",
   "metadata": {},
   "source": [
    "## 2. Shrinking, Counter-Examples, and Replaying\n",
    "\n",
    "Hypothesis's superpower is finding the *simplest possible* failing example. This is called **shrinking**. Let's introduce a bug into a sorting function."
   ]
  },
  {
   "cell_type": "code",
   "execution_count": 2,
   "metadata": {},
   "outputs": [],
   "source": [
    "import os\n",
    "import shutil\n",
    "try:\n",
    "    shutil.rmtree('.hypothesis')\n",
    "except:\n",
    "    print('no cache')\n"
   ]
  },
  {
   "cell_type": "code",
   "execution_count": 3,
   "metadata": {},
   "outputs": [
    {
     "name": "stdout",
     "output_type": "stream",
     "text": [
      "🔍 SSearching for example\n"
     ]
    },
    {
     "ename": "AssertionError",
     "evalue": "",
     "output_type": "error",
     "traceback": [
      "\u001b[0;31m---------------------------------------------------------------------------\u001b[0m",
      "\u001b[0;31mAssertionError\u001b[0m                            Traceback (most recent call last)",
      "Cell \u001b[0;32mIn[3], line 32\u001b[0m\n\u001b[1;32m     29\u001b[0m     failing_example \u001b[38;5;241m=\u001b[39m find(list_strategy, check_sort)\n\u001b[1;32m     30\u001b[0m     \u001b[38;5;28mprint\u001b[39m(\u001b[38;5;124mf\u001b[39m\u001b[38;5;124m\"\u001b[39m\u001b[38;5;124m \u001b[39m\u001b[38;5;132;01m{\u001b[39;00mfailing_example\u001b[38;5;132;01m}\u001b[39;00m\u001b[38;5;124m\"\u001b[39m)\n\u001b[0;32m---> 32\u001b[0m \u001b[43mrun_find\u001b[49m\u001b[43m(\u001b[49m\u001b[43m)\u001b[49m\n",
      "Cell \u001b[0;32mIn[3], line 29\u001b[0m, in \u001b[0;36mrun_find\u001b[0;34m()\u001b[0m\n\u001b[1;32m     26\u001b[0m \u001b[38;5;129m@settings\u001b[39m(verbosity\u001b[38;5;241m=\u001b[39m\u001b[38;5;241m2\u001b[39m, max_examples\u001b[38;5;241m=\u001b[39m\u001b[38;5;241m1000\u001b[39m, deadline\u001b[38;5;241m=\u001b[39m\u001b[38;5;28;01mNone\u001b[39;00m)\n\u001b[1;32m     27\u001b[0m \u001b[38;5;28;01mdef\u001b[39;00m\u001b[38;5;250m \u001b[39m\u001b[38;5;21mrun_find\u001b[39m():\n\u001b[1;32m     28\u001b[0m     \u001b[38;5;28mprint\u001b[39m(\u001b[38;5;124m\"\u001b[39m\u001b[38;5;124m🔍 SSearching for example\u001b[39m\u001b[38;5;124m\"\u001b[39m)\n\u001b[0;32m---> 29\u001b[0m     failing_example \u001b[38;5;241m=\u001b[39m \u001b[43mfind\u001b[49m\u001b[43m(\u001b[49m\u001b[43mlist_strategy\u001b[49m\u001b[43m,\u001b[49m\u001b[43m \u001b[49m\u001b[43mcheck_sort\u001b[49m\u001b[43m)\u001b[49m\n\u001b[1;32m     30\u001b[0m     \u001b[38;5;28mprint\u001b[39m(\u001b[38;5;124mf\u001b[39m\u001b[38;5;124m\"\u001b[39m\u001b[38;5;124m \u001b[39m\u001b[38;5;132;01m{\u001b[39;00mfailing_example\u001b[38;5;132;01m}\u001b[39;00m\u001b[38;5;124m\"\u001b[39m)\n",
      "File \u001b[0;32m~/opt/miniconda3/envs/HypothesisDemo/lib/python3.10/site-packages/hypothesis/core.py:2295\u001b[0m, in \u001b[0;36mfind\u001b[0;34m(specifier, condition, settings, random, database_key)\u001b[0m\n\u001b[1;32m   2292\u001b[0m test\u001b[38;5;241m.\u001b[39m_hypothesis_internal_database_key \u001b[38;5;241m=\u001b[39m database_key  \u001b[38;5;66;03m# type: ignore\u001b[39;00m\n\u001b[1;32m   2294\u001b[0m \u001b[38;5;28;01mtry\u001b[39;00m:\n\u001b[0;32m-> 2295\u001b[0m     \u001b[43mtest\u001b[49m\u001b[43m(\u001b[49m\u001b[43m)\u001b[49m\n\u001b[1;32m   2296\u001b[0m \u001b[38;5;28;01mexcept\u001b[39;00m Found:\n\u001b[1;32m   2297\u001b[0m     \u001b[38;5;28;01mreturn\u001b[39;00m last[\u001b[38;5;241m0\u001b[39m]\n",
      "File \u001b[0;32m~/opt/miniconda3/envs/HypothesisDemo/lib/python3.10/site-packages/hypothesis/core.py:2283\u001b[0m, in \u001b[0;36mfind.<locals>.test\u001b[0;34m()\u001b[0m\n\u001b[1;32m   2278\u001b[0m specifier\u001b[38;5;241m.\u001b[39mvalidate()\n\u001b[1;32m   2280\u001b[0m last: \u001b[38;5;28mlist\u001b[39m[Ex] \u001b[38;5;241m=\u001b[39m []\n\u001b[1;32m   2282\u001b[0m \u001b[38;5;129m@settings\u001b[39m\n\u001b[0;32m-> 2283\u001b[0m \u001b[38;5;129m@given\u001b[39m(specifier)\n\u001b[1;32m   2284\u001b[0m \u001b[38;5;28;01mdef\u001b[39;00m\u001b[38;5;250m \u001b[39m\u001b[38;5;21mtest\u001b[39m(v):\n\u001b[1;32m   2285\u001b[0m     \u001b[38;5;28;01mif\u001b[39;00m condition(v):\n\u001b[1;32m   2286\u001b[0m         last[:] \u001b[38;5;241m=\u001b[39m [v]\n",
      "    \u001b[0;31m[... skipping hidden 1 frame]\u001b[0m\n",
      "Cell \u001b[0;32mIn[3], line 23\u001b[0m, in \u001b[0;36mcheck_sort\u001b[0;34m(numbers)\u001b[0m\n\u001b[1;32m     21\u001b[0m seen_inputs\u001b[38;5;241m.\u001b[39mappend(numbers[:])  \n\u001b[1;32m     22\u001b[0m note(\u001b[38;5;124mf\u001b[39m\u001b[38;5;124m\"\u001b[39m\u001b[38;5;124mChecking example: \u001b[39m\u001b[38;5;132;01m{\u001b[39;00mnumbers\u001b[38;5;132;01m}\u001b[39;00m\u001b[38;5;124m\"\u001b[39m)\n\u001b[0;32m---> 23\u001b[0m \u001b[38;5;28;01massert\u001b[39;00m buggy_sort(numbers) \u001b[38;5;241m==\u001b[39m \u001b[38;5;28msorted\u001b[39m(numbers)\n",
      "\u001b[0;31mAssertionError\u001b[0m: ",
      "\u001b[0mFalsifying example: test(\n    v=[0, 1],\n)",
      "\u001b[0mChecking example: [0, 1]"
     ]
    }
   ],
   "source": [
    "from hypothesis import find, strategies as st, settings, note\n",
    "from typing import List\n",
    "\n",
    "def buggy_sort(numbers: List[int]) -> List[int]:\n",
    "    if 0 in numbers and 1 in numbers:\n",
    "        return [999] #oh no our sort is wrong\n",
    "    return sorted(numbers)\n",
    "\n",
    "# defined strategy\n",
    "list_strategy = st.lists(\n",
    "    st.integers(min_value=-5, max_value=5),\n",
    "    min_size=1,\n",
    "    max_size=10\n",
    ")\n",
    "\n",
    "# ignore\n",
    "seen_inputs = []\n",
    "\n",
    "#ignore\n",
    "def check_sort(numbers: List[int]):\n",
    "    seen_inputs.append(numbers[:])  \n",
    "    note(f\"Checking example: {numbers}\")\n",
    "    assert buggy_sort(numbers) == sorted(numbers)\n",
    "\n",
    "# --- Settings ---\n",
    "@settings(verbosity=2, max_examples=1000, deadline=None)\n",
    "def run_find():\n",
    "    print(\"🔍 SSearching for example\")\n",
    "    failing_example = find(list_strategy, check_sort)\n",
    "    print(f\" {failing_example}\")\n",
    "\n",
    "run_find()"
   ]
  },
  {
   "cell_type": "code",
   "execution_count": 6,
   "metadata": {},
   "outputs": [
    {
     "data": {
      "image/png": "[encoded data removed]",
      "text/plain": [
       "<Figure size 1000x500 with 1 Axes>"
      ]
     },
     "metadata": {},
     "output_type": "display_data"
    }
   ],
   "source": [
    "import matplotlib.pyplot as plt\n",
    "\n",
    "sizes = [len(x) for x in seen_inputs]\n",
    "plt.figure(figsize=(10, 5))\n",
    "plt.plot(sizes, marker='o', linestyle='-', color='blue', label='Input size')\n",
    "plt.xlabel('Test number')\n",
    "plt.ylabel('Input size (length of list)')\n",
    "plt.title(' Shrinking Behavior in Hypothesis')\n",
    "plt.grid(True)\n",
    "plt.legend()\n",
    "plt.tight_layout()\n",
    "plt.show()"
   ]
  },
  {
   "cell_type": "markdown",
   "metadata": {},
   "source": [
    "You might note it shrank it down to the simplest possible case that still causes the error.\n",
    "\n",
    "#### Replaying Failures\n",
    "\n",
    "When a test fails, Hypothesis saves the failing example. You can use the `@example` decorator to add it as a permanent regression test case, ensuring the bug never comes back."
   ]
  },
  {
   "cell_type": "code",
   "execution_count": 7,
   "metadata": {},
   "outputs": [
    {
     "name": "stdout",
     "output_type": "stream",
     "text": [
      "❌ Test failed for input: [0, 1]\n",
      "Test with @example ran.\n"
     ]
    }
   ],
   "source": [
    "from hypothesis import given, example, strategies as st\n",
    "\n",
    "\n",
    "@given(st.lists(st.integers()))\n",
    "@example([0, 1])  \n",
    "def test_buggy_sort(numbers):\n",
    "    try:\n",
    "        assert buggy_sort(numbers) == sorted(numbers)\n",
    "    except AssertionError:\n",
    "        print(f\"❌ Test failed for input: {numbers}\")\n",
    "\n",
    "test_buggy_sort()\n",
    "\n",
    "print(\"Test with @example ran.\")\n"
   ]
  },
  {
   "cell_type": "markdown",
   "metadata": {},
   "source": [
    "## 3. More Features: Filters, Combining, and `assume()`\n",
    "\n",
    "You can easily refine strategies."
   ]
  },
  {
   "cell_type": "code",
   "execution_count": 8,
   "metadata": {},
   "outputs": [
    {
     "name": "stdout",
     "output_type": "stream",
     "text": [
      "Testing 18240 / -1618331676\n",
      "Testing 31144 / 28138\n",
      "Testing -9758 / 29491\n",
      "Testing -2043535464 / 56\n",
      "Testing 32 / -22\n",
      "Testing 997446698074727764 / -92\n",
      "Testing 166520216488579097981463504449510507964 / -1049353351101241629\n",
      "Testing 31639 / -31388\n",
      "Testing -3544367244701708734 / -25482\n",
      "Testing -33 / 8564\n",
      "Testing 8564 / 8564\n",
      "Testing -9619 / -10774\n",
      "Testing -9619 / -9619\n",
      "Testing -16435 / -111\n",
      "Testing -16435 / -16435\n",
      "Testing 791579709 / -53\n",
      "Testing -53 / -53\n",
      "Testing -2752 / -74\n",
      "Testing -74 / -74\n",
      "Testing 25850 / -119\n",
      "Testing -119 / -119\n",
      "Testing 10 / -4047\n",
      "Testing 10 / 10\n",
      "Testing 61 / -59\n",
      "Testing 61 / 61\n",
      "Testing 31992 / 5104378533841630765\n",
      "Testing 5104378533841630765 / 5104378533841630765\n",
      "Testing 56 / -107\n",
      "Testing -107 / -107\n",
      "Testing -66 / -15\n",
      "Testing -15 / -15\n",
      "Testing 13810 / -16725\n",
      "Testing 13810 / 13810\n",
      "Testing 1142849703 / 6918\n",
      "Testing 1142849703 / 1142849703\n",
      "Testing 32005 / -12\n",
      "Testing 32005 / 32005\n",
      "Testing 6910652603597639799 / -18053\n",
      "Testing -18053 / -18053\n",
      "Testing 6623706391443029858 / -9837\n",
      "Testing 6623706391443029858 / 6623706391443029858\n",
      "Testing 2945747722432873157 / -25488\n",
      "Testing -25488 / -25488\n",
      "Testing -16902 / 1433393361\n",
      "Testing -16902 / -16902\n",
      "Testing -11314 / 100\n",
      "Testing -11314 / -11314\n",
      "Testing 6149894608678436864 / -22859\n",
      "Testing 6149894608678436864 / 6149894608678436864\n",
      "Testing 44 / 73\n",
      "Testing 73 / 73\n",
      "Testing -3477 / 23027\n",
      "Testing -3477 / -3477\n",
      "Testing 108130557562409943654135952826826016552 / 10615\n",
      "Testing 108130557562409943654135952826826016552 / 108130557562409943654135952826826016552\n",
      "Testing -6142 / 23703\n",
      "Testing -6142 / -6142\n",
      "Testing 2872 / 18017\n",
      "Testing 18017 / 18017\n",
      "Testing 30054 / -15901\n",
      "Testing -15901 / -15901\n",
      "Testing 29119 / -19055\n",
      "Testing -19055 / -19055\n",
      "Testing 31806 / -28646\n",
      "Testing -28646 / -28646\n",
      "Testing -8908 / -773760888\n",
      "Testing -773760888 / -773760888\n",
      "Testing 94 / 4816\n",
      "Testing 4816 / 4816\n",
      "Testing 30589 / -28148\n",
      "Testing 30589 / 30589\n",
      "Testing 11602 / -17181\n",
      "Testing 11602 / 11602\n",
      "Testing 29 / 30260\n",
      "Testing 30260 / 30260\n",
      "Testing -266956919 / 13202\n",
      "Testing 13202 / 13202\n",
      "Testing 4787 / 11791\n",
      "Testing 11791 / 11791\n",
      "Testing -3986380591281212220 / 83\n",
      "Testing 83 / 83\n",
      "Testing 7352 / 126\n",
      "Testing 7352 / 7352\n",
      "Testing 24374 / -10\n",
      "Testing 24374 / 24374\n",
      "Testing -32412 / -965\n",
      "Testing -965 / -965\n",
      "Testing 19641 / 8616\n",
      "Testing 8616 / 8616\n",
      "Testing 26859 / -21376\n",
      "Testing 26859 / 26859\n",
      "Testing 31216 / -54\n",
      "Testing 31216 / 31216\n",
      "Testing 2269 / -41\n",
      "Testing 2269 / 2269\n",
      "Testing -38 / 29857\n",
      "Testing -38 / -38\n",
      "Testing -56 / 6264414422880093124\n",
      "Testing -56 / -56\n",
      "Testing 816094448 / -10819\n"
     ]
    }
   ],
   "source": [
    "from hypothesis import assume\n",
    "\n",
    "# 1. Filtering: Create a strategy for positive integers\n",
    "positive_integers = st.integers().filter(lambda x: x > 0)\n",
    "\n",
    "# 2. Combining: Create a strategy for integers OR text\n",
    "int_or_text = st.one_of(st.integers(), st.text())\n",
    "\n",
    "# 3. `data()` and `assume()`: For complex, conditional logic inside your test\n",
    "@given(st.data())\n",
    "def test_division(data):\n",
    "    # Use data.draw() to pull from a strategy\n",
    "    numerator = data.draw(st.integers())\n",
    "    denominator = data.draw(st.integers())\n",
    "    \n",
    "    # `assume` tells Hypothesis to discard this example and try a new one\n",
    "    assume(denominator != 0)\n",
    "    \n",
    "    print(f\"Testing {numerator} / {denominator}\")\n",
    "    assert isinstance(numerator / denominator, float)\n",
    "\n",
    "test_division()"
   ]
  },
  {
   "cell_type": "markdown",
   "metadata": {},
   "source": [
    "`assume()` is very powerful. It lets you reject test data that doesn't meet a precondition, without causing the test to fail."
   ]
  },
  {
   "cell_type": "markdown",
   "metadata": {},
   "source": [
    "## 4. Custom and Composite Strategies\n",
    "\n",
    "What if you need to generate custom objects? The `@composite` decorator lets you build new strategies from existing ones."
   ]
  },
  {
   "cell_type": "code",
   "execution_count": null,
   "metadata": {},
   "outputs": [],
   "source": [
    "from hypothesis.strategies import composite\n",
    "from dataclasses import dataclass\n",
    "\n",
    "@dataclass\n",
    "class User:\n",
    "    id: int\n",
    "    name: str\n",
    "\n",
    "@composite\n",
    "def user_strategy(draw):\n",
    "    \"\"\"A strategy to generate User objects.\"\"\"\n",
    "    # `draw` works like `data.draw()` from the previous example\n",
    "    user_id = draw(st.integers(min_value=1))\n",
    "    user_name = draw(st.text(min_size=3, max_size=20))\n",
    "    return User(id=user_id, name=user_name)\n",
    "\n",
    "@given(user=user_strategy())\n",
    "def test_user_creation(user):\n",
    "    print(f\"Generated User: {user}\")\n",
    "    assert isinstance(user, User)\n",
    "    assert user.id > 0\n",
    "    assert len(user.name) >= 3\n",
    "\n",
    "test_user_creation()"
   ]
  },
  {
   "cell_type": "markdown",
   "metadata": {},
   "source": [
    "## 5. Stateful Testing\n",
    "\n",
    "Hypothesis can even test stateful systems by generating sequences of actions and checking that invariants (rules that should always be true) hold.\n",
    "\n",
    "Let's test a simple `SimpleStack` class."
   ]
  },
  {
   "cell_type": "code",
   "execution_count": null,
   "metadata": {},
   "outputs": [
    {
     "ename": "AttributeError",
     "evalue": "'StackStateMachine.TestCase' object has no attribute 'execute_step'",
     "output_type": "error",
     "traceback": [
      "\u001b[0;31m---------------------------------------------------------------------------\u001b[0m",
      "\u001b[0;31mAttributeError\u001b[0m                            Traceback (most recent call last)",
      "Cell \u001b[0;32mIn[5], line 58\u001b[0m\n\u001b[1;32m     55\u001b[0m TestStack\u001b[38;5;241m.\u001b[39mrunTest \u001b[38;5;241m=\u001b[39m \u001b[38;5;28;01mlambda\u001b[39;00m \u001b[38;5;28mself\u001b[39m: \u001b[38;5;28;01mNone\u001b[39;00m \u001b[38;5;66;03m# Suppress unittest's default runner\u001b[39;00m\n\u001b[1;32m     57\u001b[0m test_case \u001b[38;5;241m=\u001b[39m TestStack()\n\u001b[0;32m---> 58\u001b[0m test_case\u001b[38;5;241m.\u001b[39mexecute_step \u001b[38;5;241m=\u001b[39m \u001b[43mtest_case\u001b[49m\u001b[38;5;241;43m.\u001b[39;49m\u001b[43mexecute_step\u001b[49m\n\u001b[1;32m     59\u001b[0m \u001b[38;5;28mprint\u001b[39m(\u001b[38;5;124m\"\u001b[39m\u001b[38;5;124mRunning stateful test...\u001b[39m\u001b[38;5;124m\"\u001b[39m)\n\u001b[1;32m     60\u001b[0m \u001b[38;5;66;03m# Manually run a few steps for demonstration\u001b[39;00m\n",
      "\u001b[0;31mAttributeError\u001b[0m: 'StackStateMachine.TestCase' object has no attribute 'execute_step'"
     ]
    }
   ],
   "source": [
    "from hypothesis.stateful import RuleBasedStateMachine, rule, precondition\n",
    "\n",
    "class SimpleStack:\n",
    "    \"\"\"A basic stack implementation.\"\"\"\n",
    "    def __init__(self):\n",
    "        self._items = []\n",
    "    \n",
    "    def push(self, item):\n",
    "        self._items.append(item)\n",
    "        \n",
    "    def pop(self):\n",
    "        if not self._items:\n",
    "            raise IndexError(\"pop from empty list\")\n",
    "        return self._items.pop()\n",
    "    \n",
    "    def is_empty(self):\n",
    "        return not self._items\n",
    "    \n",
    "    @property\n",
    "    def size(self):\n",
    "        return len(self._items)\n",
    "\n",
    "class StackStateMachine(RuleBasedStateMachine):\n",
    "    \"\"\"Defines the rules for testing our stack.\"\"\"\n",
    "    def __init__(self):\n",
    "        super().__init__()\n",
    "        self.stack = SimpleStack()\n",
    "        self.model = [] # A simple list to model the stack's behavior\n",
    "        \n",
    "    @rule(item=st.integers())\n",
    "    def push_item(self, item):\n",
    "        \"\"\"Rule for pushing an item.\"\"\"\n",
    "        self.stack.push(item)\n",
    "        self.model.append(item)\n",
    "        print(f\"Pushed {item}\")\n",
    "        \n",
    "    @rule()\n",
    "    @precondition(lambda self: not self.stack.is_empty()) # Only run pop if not empty\n",
    "    def pop_item(self):\n",
    "        \"\"\"Rule for popping an item.\"\"\"\n",
    "        popped_stack = self.stack.pop()\n",
    "        popped_model = self.model.pop()\n",
    "        print(f\"Popped {popped_stack}\")\n",
    "        assert popped_stack == popped_model\n",
    "    \n",
    "    @rule()\n",
    "    def check_invariants(self):\n",
    "        \"\"\"This rule checks properties that should always be true.\"\"\"\n",
    "        print(\"Checking invariants...\")\n",
    "        assert self.stack.size == len(self.model)\n",
    "        assert self.stack.is_empty() == (not self.model)\n",
    "\n",
    "# To run this, Hypothesis would execute a sequence of the rules defined above.\n",
    "TestStack = StackStateMachine.TestCase\n",
    "TestStack.runTest = lambda self: None # Suppress unittest's default runner\n",
    "\n",
    "test_case = TestStack()\n",
    "test_case.execute_step = test_case.execute_step\n",
    "print(\"Running stateful test...\")\n",
    "# Manually run a few steps for demonstration\n",
    "try:\n",
    "    for i in range(10): # Run 10 random steps\n",
    "        test_case.execute_step(test_case.steps.pop(0))\n",
    "except (IndexError, AttributeError):\n",
    "    pass # Stop if we run out of generated steps\n",
    "print(\"\\nStateful test finished.\")"
   ]
  },
  {
   "cell_type": "markdown",
   "metadata": {},
   "source": [
    "epic thanks to the pogg0 goats Henry Shu, Inesh Chakrabarti, Ingrid Lee, Nathan Wei, Pritam Mukhopadhyay  "
   ]
  }
 ],
 "metadata": {
  "kernelspec": {
   "display_name": "HypothesisDemo",
   "language": "python",
   "name": "python3"
  },
  "language_info": {
   "codemirror_mode": {
    "name": "ipython",
    "version": 3
   },
   "file_extension": ".py",
   "mimetype": "text/x-python",
   "name": "python",
   "nbconvert_exporter": "python",
   "pygments_lexer": "ipython3",
   "version": "3.10.18"
  }
 },
 "nbformat": 4,
 "nbformat_minor": 4
}
