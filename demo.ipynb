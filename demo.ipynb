{
 "cells": [
  {
   "cell_type": "markdown",
   "metadata": {},
   "source": [
    "# Hypothesis in 5 Minutes: A Quick Tour\n",
    "\n",
    "Welcome! This notebook is a fast-paced introduction to **Hypothesis**, a powerful Python library for property-based testing. \n",
    "\n",
    "Instead of writing tests for specific examples (e.g., `assert add(2, 2) == 4`), you define *properties* that should be true for all valid inputs (e.g., `add(a, b) == add(b, a)`), and Hypothesis will generate hundreds of diverse examples to try and break your code. \n",
    "\n",
    "Let's get started! First, make sure you have it installed:\n",
    "```bash\n",
    "pip install hypothesis\n",
    "```"
   ]
  },
  {
   "cell_type": "markdown",
   "metadata": {},
   "source": [
    "## 1. Basic Usage: `@given` and Strategies\n",
    "\n",
    "The core of Hypothesis is the `@given` decorator, which takes **strategies** that define how to generate data. Let's test a simple `add` function."
   ]
  },
  {
   "cell_type": "code",
   "execution_count": null,
   "metadata": {},
   "outputs": [],
   "source": [
    "from hypothesis import given, strategies as st\n",
    "\n",
    "def add(a, b):\n",
    "    \"\"\"A simple function to add two numbers.\"\"\"\n",
    "    return a + b\n",
    "\n",
    "# This is a property-based test!\n",
    "# It states that for any two integers a and b, add(a, b) should equal a + b.\n",
    "@given(a=st.integers(), b=st.integers())\n",
    "def test_addition_property(a, b):\n",
    "    print(f\"Testing with a={a}, b={b}\") # See what Hypothesis tries!\n",
    "    assert add(a, b) == a + b\n",
    "\n",
    "# To run this in a notebook, we can call the test function directly.\n",
    "# In a real project, you'd use a test runner like pytest.\n",
    "test_addition_property()"
   ]
  },
  {
   "cell_type": "markdown",
   "metadata": {},
   "source": [
    "Notice how Hypothesis tries a wide range of integers: positives, negatives, and zero. If the assertion had failed, Hypothesis would have reported it."
   ]
  },
  {
   "cell_type": "markdown",
   "metadata": {},
   "source": [
    "## 2. Shrinking, Counter-Examples, and Replaying\n",
    "\n",
    "Hypothesis's superpower is finding the *simplest possible* failing example. This is called **shrinking**. Let's introduce a bug into a sorting function."
   ]
  },
  {
   "cell_type": "code",
   "execution_count": null,
   "metadata": {},
   "outputs": [],
   "source": [
    "from hypothesis import find, strategies as st, settings\n",
    "\n",
    "def buggy_sort(numbers):\n",
    "    # This sort is buggy! It fails if there's a zero.\n",
    "    for x in numbers:\n",
    "        if x == 0:\n",
    "            return [-1] # Return a wrong result\n",
    "    return sorted(numbers)\n",
    "\n",
    "# Define a strategy for lists of integers\n",
    "list_strategy = st.lists(st.integers())\n",
    "\n",
    "# We use `find` here to demonstrate the counter-example without raising an error\n",
    "def check_sort(numbers):\n",
    "    assert buggy_sort(numbers) == sorted(numbers)\n",
    "\n",
    "failing_example = find(list_strategy, check_sort)\n",
    "print(f\"Hypothesis found a simple failing example: {failing_example}\")"
   ]
  },
  {
   "cell_type": "markdown",
   "metadata": {},
   "source": [
    "Hypothesis probably found `[0]`. It might have started with something complex like `[10, 5, 0, -20]`, found that it failed, and then *shrunk* it down to the simplest possible case that still causes the error.\n",
    "\n",
    "#### Replaying Failures\n",
    "\n",
    "When a test fails, Hypothesis saves the failing example. You can use the `@example` decorator to add it as a permanent regression test case, ensuring the bug never comes back."
   ]
  },
  {
   "cell_type": "code",
   "execution_count": null,
   "metadata": {},
   "outputs": [],
   "source": [
    "from hypothesis import given, example\n",
    "\n",
    "@given(st.lists(st.integers()))\n",
    "@example([0]) # Add the failing case we found!\n",
    "def test_buggy_sort(numbers):\n",
    "    # This will now fail immediately with our example if the bug isn't fixed.\n",
    "    try:\n",
    "        assert buggy_sort(numbers) == sorted(numbers)\n",
    "    except AssertionError:\n",
    "        # In a real test suite, you wouldn't catch the error.\n",
    "        # We do it here to prevent the notebook from stopping.\n",
    "        pass\n",
    "\n",
    "print(\"Test with @example ran.\")"
   ]
  },
  {
   "cell_type": "markdown",
   "metadata": {},
   "source": [
    "## 3. More Features: Filters, Combining, and `assume()`\n",
    "\n",
    "You can easily refine strategies."
   ]
  },
  {
   "cell_type": "code",
   "execution_count": null,
   "metadata": {},
   "outputs": [],
   "source": [
    "from hypothesis import assume\n",
    "\n",
    "# 1. Filtering: Create a strategy for positive integers\n",
    "positive_integers = st.integers().filter(lambda x: x > 0)\n",
    "\n",
    "# 2. Combining: Create a strategy for integers OR text\n",
    "int_or_text = st.one_of(st.integers(), st.text())\n",
    "\n",
    "# 3. `data()` and `assume()`: For complex, conditional logic inside your test\n",
    "@given(st.data())\n",
    "def test_division(data):\n",
    "    # Use data.draw() to pull from a strategy\n",
    "    numerator = data.draw(st.integers())\n",
    "    denominator = data.draw(st.integers())\n",
    "    \n",
    "    # `assume` tells Hypothesis to discard this example and try a new one\n",
    "    assume(denominator != 0)\n",
    "    \n",
    "    print(f\"Testing {numerator} / {denominator}\")\n",
    "    assert isinstance(numerator / denominator, float)\n",
    "\n",
    "test_division()"
   ]
  },
  {
   "cell_type": "markdown",
   "metadata": {},
   "source": [
    "`assume()` is very powerful. It lets you reject test data that doesn't meet a precondition, without causing the test to fail."
   ]
  },
  {
   "cell_type": "markdown",
   "metadata": {},
   "source": [
    "## 4. Custom and Composite Strategies\n",
    "\n",
    "What if you need to generate custom objects? The `@composite` decorator lets you build new strategies from existing ones."
   ]
  },
  {
   "cell_type": "code",
   "execution_count": null,
   "metadata": {},
   "outputs": [],
   "source": [
    "from hypothesis.strategies import composite\n",
    "from dataclasses import dataclass\n",
    "\n",
    "@dataclass\n",
    "class User:\n",
    "    id: int\n",
    "    name: str\n",
    "\n",
    "@composite\n",
    "def user_strategy(draw):\n",
    "    \"\"\"A strategy to generate User objects.\"\"\"\n",
    "    # `draw` works like `data.draw()` from the previous example\n",
    "    user_id = draw(st.integers(min_value=1))\n",
    "    user_name = draw(st.text(min_size=3, max_size=20))\n",
    "    return User(id=user_id, name=user_name)\n",
    "\n",
    "@given(user=user_strategy())\n",
    "def test_user_creation(user):\n",
    "    print(f\"Generated User: {user}\")\n",
    "    assert isinstance(user, User)\n",
    "    assert user.id > 0\n",
    "    assert len(user.name) >= 3\n",
    "\n",
    "test_user_creation()"
   ]
  },
  {
   "cell_type": "markdown",
   "metadata": {},
   "source": [
    "## 5. Stateful Testing\n",
    "\n",
    "Hypothesis can even test stateful systems by generating sequences of actions and checking that invariants (rules that should always be true) hold.\n",
    "\n",
    "Let's test a simple `SimpleStack` class."
   ]
  },
  {
   "cell_type": "code",
   "execution_count": null,
   "metadata": {},
   "outputs": [],
   "source": [
    "from hypothesis.stateful import RuleBasedStateMachine, rule, precondition\n",
    "\n",
    "class SimpleStack:\n",
    "    \"\"\"A basic stack implementation.\"\"\"\n",
    "    def __init__(self):\n",
    "        self._items = []\n",
    "    \n",
    "    def push(self, item):\n",
    "        self._items.append(item)\n",
    "        \n",
    "    def pop(self):\n",
    "        if not self._items:\n",
    "            raise IndexError(\"pop from empty list\")\n",
    "        return self._items.pop()\n",
    "    \n",
    "    def is_empty(self):\n",
    "        return not self._items\n",
    "    \n",
    "    @property\n",
    "    def size(self):\n",
    "        return len(self._items)\n",
    "\n",
    "class StackStateMachine(RuleBasedStateMachine):\n",
    "    \"\"\"Defines the rules for testing our stack.\"\"\"\n",
    "    def __init__(self):\n",
    "        super().__init__()\n",
    "        self.stack = SimpleStack()\n",
    "        self.model = [] # A simple list to model the stack's behavior\n",
    "        \n",
    "    @rule(item=st.integers())\n",
    "    def push_item(self, item):\n",
    "        \"\"\"Rule for pushing an item.\"\"\"\n",
    "        self.stack.push(item)\n",
    "        self.model.append(item)\n",
    "        print(f\"Pushed {item}\")\n",
    "        \n",
    "    @rule()\n",
    "    @precondition(lambda self: not self.stack.is_empty()) # Only run pop if not empty\n",
    "    def pop_item(self):\n",
    "        \"\"\"Rule for popping an item.\"\"\"\n",
    "        popped_stack = self.stack.pop()\n",
    "        popped_model = self.model.pop()\n",
    "        print(f\"Popped {popped_stack}\")\n",
    "        assert popped_stack == popped_model\n",
    "    \n",
    "    @rule()\n",
    "    def check_invariants(self):\n",
    "        \"\"\"This rule checks properties that should always be true.\"\"\"\n",
    "        print(\"Checking invariants...\")\n",
    "        assert self.stack.size == len(self.model)\n",
    "        assert self.stack.is_empty() == (not self.model)\n",
    "\n",
    "# To run this, Hypothesis would execute a sequence of the rules defined above.\n",
    "TestStack = StackStateMachine.TestCase\n",
    "TestStack.runTest = lambda self: None # Suppress unittest's default runner\n",
    "\n",
    "test_case = TestStack()\n",
    "test_case.execute_step = test_case.execute_step\n",
    "print(\"Running stateful test...\")\n",
    "# Manually run a few steps for demonstration\n",
    "try:\n",
    "    for i in range(10): # Run 10 random steps\n",
    "        test_case.execute_step(test_case.steps.pop(0))\n",
    "except (IndexError, AttributeError):\n",
    "    pass # Stop if we run out of generated steps\n",
    "print(\"\\nStateful test finished.\")"
   ]
  },
  {
   "cell_type": "markdown",
   "metadata": {},
   "source": [
    "## Conclusion\n",
    "\n",
    "You've just seen the core features of Hypothesis in about five minutes!\n",
    "\n",
    "- **`@given`**: The entry point for property-based tests.\n",
    "- **Strategies**: Powerful generators for all kinds of data.\n",
    "- **Shrinking**: Finds the simplest failing cases automatically.\n",
    "- **Composites**: Lets you build strategies for your own data structures.\n",
    "- **Stateful Testing**: Tests sequences of actions on complex objects.\n",
    "\n",
    "By thinking about the *properties* of your code, you can write more powerful tests that find more bugs with less effort. Happy testing!"
   ]
  }
 ],
 "metadata": {
  "kernelspec": {
   "display_name": "Python 3",
   "language": "python",
   "name": "python3"
  },
  "language_info": {
   "codemirror_mode": {
    "name": "ipython",
    "version": 3
   },
   "file_extension": ".py",
   "mimetype": "text/x-python",
   "name": "python",
   "nbconvert_exporter": "python",
   "pygments_lexer": "ipython3",
   "version": "3.9.7"
  }
 },
 "nbformat": 4,
 "nbformat_minor": 4
}
